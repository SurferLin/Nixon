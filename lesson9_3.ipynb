{
 "cells": [
  {
   "cell_type": "code",
   "execution_count": 1,
   "metadata": {},
   "outputs": [],
   "source": [
    "stu1 = [78, 92, 65, 86, 74]\n",
    "stu2 = [78, 95, 63, 72, 74]\n",
    "stu3 = [62, 55, 73, 93, 64]"
   ]
  },
  {
   "cell_type": "code",
   "execution_count": 2,
   "metadata": {},
   "outputs": [
    {
     "data": {
      "text/plain": [
       "[[78, 92, 65, 86, 74], [78, 95, 63, 72, 74], [62, 55, 73, 93, 64]]"
      ]
     },
     "execution_count": 2,
     "metadata": {},
     "output_type": "execute_result"
    }
   ],
   "source": [
    "students = [stu1, stu2, stu3]\n",
    "students"
   ]
  },
  {
   "cell_type": "code",
   "execution_count": 3,
   "metadata": {},
   "outputs": [
    {
     "data": {
      "text/plain": [
       "[[78, 92, 65, 86, 74], [78, 95, 63, 72, 74], [62, 55, 73, 93, 64]]"
      ]
     },
     "execution_count": 3,
     "metadata": {},
     "output_type": "execute_result"
    }
   ],
   "source": [
    "students = list()\n",
    "students.append(stu1)\n",
    "students.append(stu2)\n",
    "students.append(stu3)\n",
    "students"
   ]
  },
  {
   "cell_type": "code",
   "execution_count": 9,
   "metadata": {},
   "outputs": [
    {
     "data": {
      "text/plain": [
       "[52, 67, 92, 76, 99]"
      ]
     },
     "execution_count": 9,
     "metadata": {},
     "output_type": "execute_result"
    }
   ],
   "source": [
    "#建立一個學生的5個分數\n",
    "import random\n",
    "stu = []\n",
    "for _ in range(5):    # \"_\"省略運算子\n",
    "    score = random.randint(50,100)\n",
    "    stu.append(score)\n",
    "\n",
    "stu"
   ]
  },
  {
   "cell_type": "code",
   "execution_count": 13,
   "metadata": {},
   "outputs": [
    {
     "data": {
      "text/plain": [
       "[[99, 74, 74, 76, 61],\n",
       " [57, 54, 55, 51, 92],\n",
       " [80, 78, 100, 88, 58],\n",
       " [60, 82, 50, 77, 67],\n",
       " [95, 88, 52, 51, 58],\n",
       " [69, 99, 87, 59, 68],\n",
       " [51, 92, 83, 97, 88],\n",
       " [82, 76, 77, 90, 76],\n",
       " [92, 65, 83, 77, 61],\n",
       " [74, 57, 53, 96, 73],\n",
       " [98, 80, 65, 71, 85],\n",
       " [84, 96, 98, 81, 100],\n",
       " [95, 85, 59, 64, 72],\n",
       " [90, 85, 97, 62, 81],\n",
       " [65, 69, 90, 80, 83],\n",
       " [93, 53, 66, 79, 85],\n",
       " [78, 94, 94, 79, 68],\n",
       " [80, 93, 77, 65, 94],\n",
       " [77, 96, 63, 100, 94],\n",
       " [54, 88, 65, 81, 93],\n",
       " [100, 100, 84, 75, 97],\n",
       " [75, 56, 93, 53, 75],\n",
       " [51, 90, 87, 68, 86],\n",
       " [86, 58, 66, 82, 89],\n",
       " [95, 75, 56, 90, 68],\n",
       " [94, 80, 92, 78, 72],\n",
       " [61, 56, 80, 73, 69],\n",
       " [94, 79, 85, 71, 55],\n",
       " [66, 83, 82, 65, 73],\n",
       " [91, 99, 97, 52, 53],\n",
       " [75, 60, 69, 68, 92],\n",
       " [74, 74, 88, 87, 100],\n",
       " [70, 70, 63, 93, 64],\n",
       " [80, 82, 62, 60, 74],\n",
       " [68, 81, 65, 97, 51],\n",
       " [71, 80, 100, 90, 60],\n",
       " [53, 93, 67, 100, 76],\n",
       " [62, 73, 97, 72, 93],\n",
       " [72, 57, 64, 62, 95],\n",
       " [68, 84, 52, 53, 86],\n",
       " [60, 92, 85, 60, 52],\n",
       " [83, 64, 97, 59, 67],\n",
       " [92, 60, 84, 75, 95],\n",
       " [82, 53, 71, 90, 72],\n",
       " [53, 75, 63, 84, 69],\n",
       " [52, 95, 59, 65, 61],\n",
       " [89, 97, 57, 84, 70],\n",
       " [72, 75, 83, 65, 84],\n",
       " [79, 55, 51, 50, 56],\n",
       " [55, 55, 86, 58, 57]]"
      ]
     },
     "execution_count": 13,
     "metadata": {},
     "output_type": "execute_result"
    }
   ],
   "source": [
    "#建立一個學生的5個分數\n",
    "#建立50個學生\n",
    "\n",
    "students = []\n",
    "for _ in range(50):\n",
    "    stu = []\n",
    "    for _ in range(5):\n",
    "        score = random.randint(50,100)\n",
    "        stu.append(score)\n",
    "    students.append(stu)\n",
    "\n",
    "students"
   ]
  },
  {
   "cell_type": "code",
   "execution_count": 19,
   "metadata": {},
   "outputs": [
    {
     "data": {
      "text/plain": [
       "[[77, 93, 61, 64, 88],\n",
       " [63, 79, 93, 95, 70],\n",
       " [88, 92, 77, 74, 83],\n",
       " [93, 58, 72, 71, 83],\n",
       " [67, 52, 83, 92, 61],\n",
       " [86, 94, 62, 96, 98],\n",
       " [77, 50, 74, 79, 86],\n",
       " [100, 86, 81, 88, 85],\n",
       " [56, 53, 71, 89, 74],\n",
       " [67, 95, 96, 78, 97],\n",
       " [64, 55, 65, 99, 82],\n",
       " [72, 72, 85, 99, 59],\n",
       " [82, 97, 84, 82, 54],\n",
       " [73, 78, 63, 62, 88],\n",
       " [97, 90, 93, 81, 71],\n",
       " [72, 50, 85, 85, 68],\n",
       " [90, 58, 96, 98, 92],\n",
       " [64, 74, 81, 64, 57],\n",
       " [99, 65, 54, 89, 50],\n",
       " [92, 96, 63, 73, 68],\n",
       " [87, 78, 79, 54, 54],\n",
       " [51, 64, 52, 81, 98],\n",
       " [72, 67, 83, 90, 82],\n",
       " [98, 100, 58, 62, 74],\n",
       " [86, 60, 93, 66, 53],\n",
       " [95, 54, 65, 74, 97],\n",
       " [97, 83, 82, 90, 53],\n",
       " [50, 63, 50, 67, 62],\n",
       " [93, 96, 76, 85, 59],\n",
       " [77, 57, 89, 52, 59],\n",
       " [94, 76, 90, 55, 90],\n",
       " [51, 78, 71, 100, 75],\n",
       " [55, 93, 75, 91, 88],\n",
       " [54, 76, 96, 52, 64],\n",
       " [82, 70, 69, 58, 98],\n",
       " [87, 73, 90, 81, 74],\n",
       " [57, 58, 63, 67, 57],\n",
       " [68, 72, 82, 70, 55],\n",
       " [93, 67, 100, 76, 53],\n",
       " [70, 66, 59, 68, 87],\n",
       " [93, 51, 89, 87, 53],\n",
       " [52, 64, 92, 53, 87],\n",
       " [100, 94, 88, 61, 51],\n",
       " [80, 88, 51, 52, 67],\n",
       " [69, 81, 70, 63, 50],\n",
       " [91, 90, 81, 74, 58],\n",
       " [70, 53, 50, 51, 74],\n",
       " [90, 84, 97, 92, 100],\n",
       " [86, 67, 71, 53, 63],\n",
       " [50, 87, 75, 67, 65]]"
      ]
     },
     "execution_count": 19,
     "metadata": {},
     "output_type": "execute_result"
    }
   ],
   "source": [
    "import random\n",
    "def createStudent()->list[int]:\n",
    "    stu = []\n",
    "    for _ in range(5):\n",
    "        score = random.randint(50,100)\n",
    "        stu.append(score)\n",
    "    return stu\n",
    "\n",
    "classes = []\n",
    "for _ in range(50):\n",
    "    stu = createStudent()\n",
    "    classes.append(stu)\n",
    "classes "
   ]
  },
  {
   "cell_type": "code",
   "execution_count": 1,
   "metadata": {},
   "outputs": [
    {
     "data": {
      "text/plain": [
       "[[80, 87, 64, 88, 58],\n",
       " [92, 60, 80, 86, 77],\n",
       " [94, 52, 71, 59, 63],\n",
       " [95, 91, 95, 80, 80],\n",
       " [97, 55, 71, 69, 68],\n",
       " [69, 51, 84, 79, 73],\n",
       " [61, 67, 94, 63, 72],\n",
       " [92, 58, 82, 84, 83],\n",
       " [78, 61, 70, 81, 66],\n",
       " [59, 66, 65, 63, 75]]"
      ]
     },
     "execution_count": 1,
     "metadata": {},
     "output_type": "execute_result"
    }
   ],
   "source": [
    "import random\n",
    "def createStudent()->list[int]:\n",
    "    stu = []\n",
    "    for _ in range(5):\n",
    "        score = random.randint(50,100)\n",
    "        stu.append(score)\n",
    "    return stu\n",
    "\n",
    "def createClasses(numbers:int)->list[list]:\n",
    "    classes = []\n",
    "    for _ in range(numbers):\n",
    "        stu = createStudent()\n",
    "        classes.append(stu)\n",
    "    return classes\n",
    "\n",
    "createClasses(10)"
   ]
  },
  {
   "cell_type": "code",
   "execution_count": 2,
   "metadata": {},
   "outputs": [],
   "source": [
    "#存檔\n",
    "file = open('students.csv',mode='w',encoding='utf-8',newline='')\n",
    "file.close()\n"
   ]
  }
 ],
 "metadata": {
  "kernelspec": {
   "display_name": "Python 3",
   "language": "python",
   "name": "python3"
  },
  "language_info": {
   "codemirror_mode": {
    "name": "ipython",
    "version": 3
   },
   "file_extension": ".py",
   "mimetype": "text/x-python",
   "name": "python",
   "nbconvert_exporter": "python",
   "pygments_lexer": "ipython3",
   "version": "3.10.13"
  }
 },
 "nbformat": 4,
 "nbformat_minor": 2
}
