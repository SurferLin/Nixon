{
 "cells": [
  {
   "cell_type": "code",
   "execution_count": 1,
   "metadata": {},
   "outputs": [],
   "source": [
    "stu1 = [78, 92, 65, 86, 74]\n",
    "stu2 = [78, 95, 63, 72, 74]\n",
    "stu3 = [62, 55, 73, 93, 64]"
   ]
  },
  {
   "cell_type": "code",
   "execution_count": 2,
   "metadata": {},
   "outputs": [
    {
     "data": {
      "text/plain": [
       "[[78, 92, 65, 86, 74], [78, 95, 63, 72, 74], [62, 55, 73, 93, 64]]"
      ]
     },
     "execution_count": 2,
     "metadata": {},
     "output_type": "execute_result"
    }
   ],
   "source": [
    "students = [stu1, stu2, stu3]\n",
    "students"
   ]
  },
  {
   "cell_type": "code",
   "execution_count": 3,
   "metadata": {},
   "outputs": [
    {
     "data": {
      "text/plain": [
       "[[78, 92, 65, 86, 74], [78, 95, 63, 72, 74], [62, 55, 73, 93, 64]]"
      ]
     },
     "execution_count": 3,
     "metadata": {},
     "output_type": "execute_result"
    }
   ],
   "source": [
    "students = list()\n",
    "students.append(stu1)\n",
    "students.append(stu2)\n",
    "students.append(stu3)\n",
    "students"
   ]
  },
  {
   "cell_type": "code",
   "execution_count": 9,
   "metadata": {},
   "outputs": [
    {
     "data": {
      "text/plain": [
       "[52, 67, 92, 76, 99]"
      ]
     },
     "execution_count": 9,
     "metadata": {},
     "output_type": "execute_result"
    }
   ],
   "source": [
    "#建立一個學生的5個分數\n",
    "import random\n",
    "stu = []\n",
    "for _ in range(5):    # \"_\"省略運算子\n",
    "    score = random.randint(50,100)\n",
    "    stu.append(score)\n",
    "\n",
    "stu"
   ]
  },
  {
   "cell_type": "code",
   "execution_count": 13,
   "metadata": {},
   "outputs": [
    {
     "data": {
      "text/plain": [
       "[[99, 74, 74, 76, 61],\n",
       " [57, 54, 55, 51, 92],\n",
       " [80, 78, 100, 88, 58],\n",
       " [60, 82, 50, 77, 67],\n",
       " [95, 88, 52, 51, 58],\n",
       " [69, 99, 87, 59, 68],\n",
       " [51, 92, 83, 97, 88],\n",
       " [82, 76, 77, 90, 76],\n",
       " [92, 65, 83, 77, 61],\n",
       " [74, 57, 53, 96, 73],\n",
       " [98, 80, 65, 71, 85],\n",
       " [84, 96, 98, 81, 100],\n",
       " [95, 85, 59, 64, 72],\n",
       " [90, 85, 97, 62, 81],\n",
       " [65, 69, 90, 80, 83],\n",
       " [93, 53, 66, 79, 85],\n",
       " [78, 94, 94, 79, 68],\n",
       " [80, 93, 77, 65, 94],\n",
       " [77, 96, 63, 100, 94],\n",
       " [54, 88, 65, 81, 93],\n",
       " [100, 100, 84, 75, 97],\n",
       " [75, 56, 93, 53, 75],\n",
       " [51, 90, 87, 68, 86],\n",
       " [86, 58, 66, 82, 89],\n",
       " [95, 75, 56, 90, 68],\n",
       " [94, 80, 92, 78, 72],\n",
       " [61, 56, 80, 73, 69],\n",
       " [94, 79, 85, 71, 55],\n",
       " [66, 83, 82, 65, 73],\n",
       " [91, 99, 97, 52, 53],\n",
       " [75, 60, 69, 68, 92],\n",
       " [74, 74, 88, 87, 100],\n",
       " [70, 70, 63, 93, 64],\n",
       " [80, 82, 62, 60, 74],\n",
       " [68, 81, 65, 97, 51],\n",
       " [71, 80, 100, 90, 60],\n",
       " [53, 93, 67, 100, 76],\n",
       " [62, 73, 97, 72, 93],\n",
       " [72, 57, 64, 62, 95],\n",
       " [68, 84, 52, 53, 86],\n",
       " [60, 92, 85, 60, 52],\n",
       " [83, 64, 97, 59, 67],\n",
       " [92, 60, 84, 75, 95],\n",
       " [82, 53, 71, 90, 72],\n",
       " [53, 75, 63, 84, 69],\n",
       " [52, 95, 59, 65, 61],\n",
       " [89, 97, 57, 84, 70],\n",
       " [72, 75, 83, 65, 84],\n",
       " [79, 55, 51, 50, 56],\n",
       " [55, 55, 86, 58, 57]]"
      ]
     },
     "execution_count": 13,
     "metadata": {},
     "output_type": "execute_result"
    }
   ],
   "source": [
    "#建立一個學生的5個分數\n",
    "#建立50個學生\n",
    "\n",
    "students = []\n",
    "for _ in range(50):\n",
    "    stu = []\n",
    "    for _ in range(5):\n",
    "        score = random.randint(50,100)\n",
    "        stu.append(score)\n",
    "    students.append(stu)\n",
    "\n",
    "students"
   ]
  }
 ],
 "metadata": {
  "kernelspec": {
   "display_name": "Python 3",
   "language": "python",
   "name": "python3"
  },
  "language_info": {
   "codemirror_mode": {
    "name": "ipython",
    "version": 3
   },
   "file_extension": ".py",
   "mimetype": "text/x-python",
   "name": "python",
   "nbconvert_exporter": "python",
   "pygments_lexer": "ipython3",
   "version": "3.10.13"
  }
 },
 "nbformat": 4,
 "nbformat_minor": 2
}
